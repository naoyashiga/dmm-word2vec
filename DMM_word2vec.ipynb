{
 "cells": [
  {
   "cell_type": "code",
   "execution_count": 1,
   "metadata": {
    "collapsed": true
   },
   "outputs": [],
   "source": [
    "import word2vec"
   ]
  },
  {
   "cell_type": "code",
   "execution_count": 2,
   "metadata": {
    "collapsed": false
   },
   "outputs": [
    {
     "name": "stdout",
     "output_type": "stream",
     "text": [
      "b'Starting training using file ./data/data.txt\\n'b'100K\\r200K\\rVocab size: 3887\\n'b'Words in train file: 186638\\n'b'\\rAlpha: 0.025000  Progress: 1.08%  Words/thread/sec: 10.65k  \\rAlpha: 0.024731  Progress: 2.15%  Words/thread/sec: 21.02k  \\rAlpha: 0.024462  Progress: 3.23%  Words/thread/sec: 29.45k  \\rAlpha: 0.024194  Progress: 4.30%  Words/thread/sec: 37.90k  \\rAlpha: 0.023925  Progress: 5.37%  Words/thread/sec: 46.25k  \\rAlpha: 0.023657  Progress: 6.44%  Words/thread/sec: 54.95k  \\rAlpha: 0.023389  Progress: 7.52%  Words/thread/sec: 63.53k  \\rAlpha: 0.023120  Progress: 8.59%  Words/thread/sec: 72.13k  \\rAlpha: 0.022852  Progress: 9.66%  Words/thread/sec: 78.31k  \\rAlpha: 0.022584  Progress: 10.74%  Words/thread/sec: 86.40k  \\rAlpha: 0.022315  Progress: 11.81%  Words/thread/sec: 94.13k  \\rAlpha: 0.022047  Progress: 13.48%  Words/thread/sec: 101.45k  \\rAlpha: 0.021631  Progress: 21.06%  Words/thread/sec: 111.38k  \\rAlpha: 0.019736  Progress: 22.13%  Words/thread/sec: 113.85k  \\rAlpha: 0.019467  Progress: 23.20%  Words/thread/sec: 119.16k  \\rAlpha: 0.019199  Progress: 24.28%  Words/thread/sec: 123.38k  \\rAlpha: 0.018930  Progress: 25.35%  Words/thread/sec: 128.46k  \\rAlpha: 0.018662  Progress: 26.43%  Words/thread/sec: 132.82k  \\rAlpha: 0.018394  Progress: 27.50%  Words/thread/sec: 136.78k  \\rAlpha: 0.018125  Progress: 28.58%  Words/thread/sec: 140.92k  \\rAlpha: 0.017856  Progress: 29.65%  Words/thread/sec: 146.14k  \\rAlpha: 0.017587  Progress: 30.73%  Words/thread/sec: 149.73k  \\rAlpha: 0.017319  Progress: 31.80%  Words/thread/sec: 154.14k  \\rAlpha: 0.017051  Progress: 32.87%  Words/thread/sec: 157.95k  \\rAlpha: 0.016782  Progress: 41.04%  Words/thread/sec: 153.17k  \\rAlpha: 0.014740  Progress: 42.12%  Words/thread/sec: 155.08k  \\rAlpha: 0.014471  Progress: 43.19%  Words/thread/sec: 157.78k  \\rAlpha: 0.014202  Progress: 44.27%  Words/thread/sec: 161.04k  \\rAlpha: 0.013934  Progress: 45.34%  Words/thread/sec: 164.32k  \\rAlpha: 0.013666  Progress: 46.41%  Words/thread/sec: 167.03k  \\rAlpha: 0.013398  Progress: 47.48%  Words/thread/sec: 170.25k  \\rAlpha: 0.013130  Progress: 48.55%  Words/thread/sec: 173.84k  \\rAlpha: 0.012861  Progress: 49.63%  Words/thread/sec: 175.97k  \\rAlpha: 0.012592  Progress: 50.71%  Words/thread/sec: 179.74k  \\rAlpha: 0.012323  Progress: 51.78%  Words/thread/sec: 183.24k  \\rAlpha: 0.012055  Progress: 53.41%  Words/thread/sec: 182.02k  \\rAlpha: 0.011647  Progress: 61.02%  Words/thread/sec: 179.24k  \\rAlpha: 0.009744  Progress: 62.10%  Words/thread/sec: 181.68k  \\rAlpha: 0.009475  Progress: 63.18%  Words/thread/sec: 182.90k  \\rAlpha: 0.009206  Progress: 64.25%  Words/thread/sec: 182.55k  \\rAlpha: 0.008938  Progress: 65.32%  Words/thread/sec: 183.40k  \\rAlpha: 0.008670  Progress: 66.40%  Words/thread/sec: 186.23k  \\rAlpha: 0.008401  Progress: 67.47%  Words/thread/sec: 188.43k  \\rAlpha: 0.008133  Progress: 68.54%  Words/thread/sec: 190.46k  \\rAlpha: 0.007864  Progress: 69.61%  Words/thread/sec: 193.14k  \\rAlpha: 0.007596  Progress: 70.69%  Words/thread/sec: 196.00k  \\rAlpha: 0.007328  Progress: 71.77%  Words/thread/sec: 198.46k  \\rAlpha: 0.007059  Progress: 73.99%  Words/thread/sec: 198.37k  \\rAlpha: 0.006504  Progress: 81.01%  Words/thread/sec: 194.75k  \\rAlpha: 0.004748  Progress: 82.08%  Words/thread/sec: 194.06k  \\rAlpha: 0.004479  Progress: 83.16%  Words/thread/sec: 195.59k  \\rAlpha: 0.004211  Progress: 84.23%  Words/thread/sec: 194.99k  \\rAlpha: 0.003943  Progress: 85.30%  Words/thread/sec: 197.46k  \\rAlpha: 0.003674  Progress: 86.93%  Words/thread/sec: 200.76k  \\rAlpha: 0.003267  Progress: 88.01%  Words/thread/sec: 201.30k  \\rAlpha: 0.002998  Progress: 89.08%  Words/thread/sec: 202.41k  \\rAlpha: 0.002730  Progress: 90.15%  Words/thread/sec: 204.32k  \\rAlpha: 0.002462  Progress: 91.23%  Words/thread/sec: 206.25k  \\rAlpha: 0.002193  Progress: 92.30%  Words/thread/sec: 208.29k  \\rAlpha: 0.001925  Progress: 93.38%  Words/thread/sec: 208.96k  '"
     ]
    }
   ],
   "source": [
    "word2vec.word2vec('./data/data.txt', './data/ero.bin', size=100, verbose=True)"
   ]
  },
  {
   "cell_type": "code",
   "execution_count": 3,
   "metadata": {
    "collapsed": true
   },
   "outputs": [],
   "source": [
    "model = word2vec.load('./data/ero.bin')"
   ]
  },
  {
   "cell_type": "code",
   "execution_count": 4,
   "metadata": {
    "collapsed": false
   },
   "outputs": [
    {
     "data": {
      "text/plain": [
       "array(['</s>', 'の', '！', ..., '炸裂', 'スカウト', '孕む'], \n",
       "      dtype='<U78')"
      ]
     },
     "execution_count": 4,
     "metadata": {},
     "output_type": "execute_result"
    }
   ],
   "source": [
    "model.vocab"
   ]
  },
  {
   "cell_type": "code",
   "execution_count": 5,
   "metadata": {
    "collapsed": false
   },
   "outputs": [
    {
     "data": {
      "text/plain": [
       "(3887, 100)"
      ]
     },
     "execution_count": 5,
     "metadata": {},
     "output_type": "execute_result"
    }
   ],
   "source": [
    "model.vectors.shape"
   ]
  },
  {
   "cell_type": "code",
   "execution_count": 6,
   "metadata": {
    "collapsed": false
   },
   "outputs": [
    {
     "data": {
      "text/plain": [
       "array([[ 0.14333282,  0.15825513, -0.13715845, ...,  0.05456942,\n",
       "         0.10955409,  0.00693387],\n",
       "       [ 0.15333408, -0.23292334,  0.0317564 , ...,  0.19791849,\n",
       "         0.0419894 , -0.05047224],\n",
       "       [-0.164616  , -0.21064018,  0.12036111, ...,  0.03909814,\n",
       "         0.12141332, -0.00169379],\n",
       "       ..., \n",
       "       [ 0.0693659 , -0.15676436,  0.11330523, ...,  0.12536781,\n",
       "        -0.02804437, -0.09765205],\n",
       "       [ 0.02219473, -0.1519006 ,  0.1664844 , ...,  0.12381457,\n",
       "         0.05011643, -0.03644096],\n",
       "       [ 0.02777985, -0.19545595,  0.04424265, ...,  0.16809237,\n",
       "         0.04125282, -0.03649797]])"
      ]
     },
     "execution_count": 6,
     "metadata": {},
     "output_type": "execute_result"
    }
   ],
   "source": [
    "model.vectors"
   ]
  },
  {
   "cell_type": "code",
   "execution_count": 7,
   "metadata": {
    "collapsed": false
   },
   "outputs": [
    {
     "data": {
      "text/plain": [
       "(100,)"
      ]
     },
     "execution_count": 7,
     "metadata": {},
     "output_type": "execute_result"
    }
   ],
   "source": [
    "model['ちんちん'].shape"
   ]
  },
  {
   "cell_type": "code",
   "execution_count": 8,
   "metadata": {
    "collapsed": false
   },
   "outputs": [
    {
     "data": {
      "text/plain": [
       "array([ 0.06288379, -0.24113989,  0.06513868, -0.07612579,  0.0009341 ,\n",
       "       -0.12674801, -0.13378768, -0.10654606, -0.06871659,  0.18523364])"
      ]
     },
     "execution_count": 8,
     "metadata": {},
     "output_type": "execute_result"
    }
   ],
   "source": [
    "model['ちんちん'][:10]"
   ]
  },
  {
   "cell_type": "code",
   "execution_count": 9,
   "metadata": {
    "collapsed": false
   },
   "outputs": [
    {
     "data": {
      "text/plain": [
       "(array([ 448, 3673, 2966, 2307, 1130, 1856, 1281, 1511, 1975,  662]),\n",
       " array([ 0.98219957,  0.98158349,  0.98051559,  0.97871305,  0.97806799,\n",
       "         0.97777817,  0.97739437,  0.97729183,  0.97728779,  0.97690295]))"
      ]
     },
     "execution_count": 9,
     "metadata": {},
     "output_type": "execute_result"
    }
   ],
   "source": [
    "indexes, metrics = model.cosine('ちんちん')\n",
    "indexes, metrics"
   ]
  },
  {
   "cell_type": "code",
   "execution_count": 10,
   "metadata": {
    "collapsed": false
   },
   "outputs": [
    {
     "data": {
      "text/plain": [
       "array(['男子', 'はだけ', 'いまだ', '母性', '大きな', '急', '字', '谷間', '途中', 'すぐ'], \n",
       "      dtype='<U78')"
      ]
     },
     "execution_count": 10,
     "metadata": {},
     "output_type": "execute_result"
    }
   ],
   "source": [
    "model.vocab[indexes]"
   ]
  },
  {
   "cell_type": "code",
   "execution_count": 11,
   "metadata": {
    "collapsed": false
   },
   "outputs": [
    {
     "data": {
      "text/plain": [
       "rec.array([('男子', 0.9821995685409763), ('はだけ', 0.9815834926381396),\n",
       " ('いまだ', 0.9805155924220594), ('母性', 0.9787130478547523),\n",
       " ('大きな', 0.9780679878732577), ('急', 0.9777781714491173),\n",
       " ('字', 0.9773943701570482), ('谷間', 0.9772918250550557),\n",
       " ('途中', 0.9772877892877442), ('すぐ', 0.9769029514127954)], \n",
       "          dtype=[('word', '<U78'), ('metric', '<f8')])"
      ]
     },
     "execution_count": 11,
     "metadata": {},
     "output_type": "execute_result"
    }
   ],
   "source": [
    "model.generate_response(indexes, metrics)"
   ]
  },
  {
   "cell_type": "code",
   "execution_count": 12,
   "metadata": {
    "collapsed": false
   },
   "outputs": [
    {
     "data": {
      "text/plain": [
       "(array([  67,  107,  138,  393,  120, 3848,  503,  389,  357,  262]),\n",
       " array([ 0.22206502,  0.20756398,  0.20749322,  0.20737323,  0.20406145,\n",
       "         0.20309434,  0.20116031,  0.19982776,  0.19963706,  0.19813328]))"
      ]
     },
     "execution_count": 12,
     "metadata": {},
     "output_type": "execute_result"
    }
   ],
   "source": [
    "indexes, metrics = model.analogy(pos=['チン', '女'], neg=['男'], n=10)\n",
    "indexes, metrics"
   ]
  },
  {
   "cell_type": "code",
   "execution_count": 13,
   "metadata": {
    "collapsed": false
   },
   "outputs": [
    {
     "data": {
      "text/plain": [
       "[('尻', 0.2220650194778415),\n",
       " ('デカ', 0.20756397825819928),\n",
       " ('教師', 0.2074932173200872),\n",
       " ('家庭', 0.20737323148522277),\n",
       " ('熟', 0.20406145065025327),\n",
       " ('男子校', 0.20309433988669046),\n",
       " ('イケメン', 0.20116031478123114),\n",
       " ('不満', 0.19982775646262538),\n",
       " ('欲求', 0.19963706235578976),\n",
       " ('達', 0.1981332820719774)]"
      ]
     },
     "execution_count": 13,
     "metadata": {},
     "output_type": "execute_result"
    }
   ],
   "source": [
    "model.generate_response(indexes, metrics).tolist()"
   ]
  }
 ],
 "metadata": {
  "kernelspec": {
   "display_name": "Python 3",
   "language": "python",
   "name": "python3"
  },
  "language_info": {
   "codemirror_mode": {
    "name": "ipython",
    "version": 3
   },
   "file_extension": ".py",
   "mimetype": "text/x-python",
   "name": "python",
   "nbconvert_exporter": "python",
   "pygments_lexer": "ipython3",
   "version": "3.5.1"
  }
 },
 "nbformat": 4,
 "nbformat_minor": 0
}
